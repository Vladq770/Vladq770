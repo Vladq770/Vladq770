{
  "nbformat": 4,
  "nbformat_minor": 0,
  "metadata": {
    "colab": {
      "name": "homework-1.ipynb",
      "provenance": [],
      "authorship_tag": "ABX9TyP1p6Mpzbeq+kNDlLr81sJy",
      "include_colab_link": true
    },
    "kernelspec": {
      "name": "python3",
      "display_name": "Python 3"
    },
    "language_info": {
      "name": "python"
    }
  },
  "cells": [
    {
      "cell_type": "markdown",
      "metadata": {
        "id": "view-in-github",
        "colab_type": "text"
      },
      "source": [
        "<a href=\"https://colab.research.google.com/github/Vladq770/Vladq770/blob/main/homework_1.ipynb\" target=\"_parent\"><img src=\"https://colab.research.google.com/assets/colab-badge.svg\" alt=\"Open In Colab\"/></a>"
      ]
    },
    {
      "cell_type": "code",
      "source": [
        "def domain_name(url):\n",
        "  temp = url.split(\"/\")\n",
        "  temp1 = []\n",
        "  for i in temp:\n",
        "    if(i != \"http:\" and i != \"\" and i != \"https:\"):\n",
        "      domains = i.split(\".\")\n",
        "      if(domains[0] != \"www\" and domains[0] != \"web\"):\n",
        "        return domains[0]\n",
        "      return domains[1]"
      ],
      "metadata": {
        "id": "EoKxcv7WgEWb"
      },
      "execution_count": 17,
      "outputs": []
    },
    {
      "cell_type": "code",
      "source": [
        "assert domain_name(\"http://google.com\") == \"google\"\n",
        "assert domain_name(\"http://google.co.jp\") == \"google\"\n",
        "assert domain_name(\"www.xakep.ru\") == \"xakep\"\n",
        "assert domain_name(\"https://youtube.com\") == \"youtube\""
      ],
      "metadata": {
        "id": "w84AzTwH5nVu"
      },
      "execution_count": 18,
      "outputs": []
    },
    {
      "cell_type": "code",
      "source": [
        "def int32_to_ip(int32):\n",
        "  strOfNumbers = hex(int32)\n",
        "  strOfNumbers = strOfNumbers[2:]\n",
        "  for i in range(8 - len(strOfNumbers)):\n",
        "    strOfNumbers = \"0\" + strOfNumbers\n",
        "  str_ip = \"\"\n",
        "  for i in range(4):\n",
        "    str_ip += \".\" + str(int(strOfNumbers[i*2:i*2+2], 16))\n",
        "  return str_ip[1:]"
      ],
      "metadata": {
        "id": "5tsIsPmu9xfe"
      },
      "execution_count": 19,
      "outputs": []
    },
    {
      "cell_type": "code",
      "source": [
        "assert int32_to_ip(2154959208) == \"128.114.17.104\"\n",
        "assert int32_to_ip(0) == \"0.0.0.0\"\n",
        "assert int32_to_ip(2149583361) == \"128.32.10.1\"\n"
      ],
      "metadata": {
        "id": "eHsUbdyq_E0e"
      },
      "execution_count": 20,
      "outputs": []
    },
    {
      "cell_type": "code",
      "source": [
        "def zeros(n):\n",
        "  max = 0\n",
        "  while(5**max<n):\n",
        "    max += 1\n",
        "  count = 0\n",
        "  for i in range(max):\n",
        "    count += int(n / (5 ** (i+1)))\n",
        "  return count"
      ],
      "metadata": {
        "id": "7Yijw5Ci_E3k"
      },
      "execution_count": 28,
      "outputs": []
    },
    {
      "cell_type": "code",
      "source": [
        "assert zeros(0) == 0\n",
        "assert zeros(6) == 1\n",
        "assert zeros(30) == 7\n"
      ],
      "metadata": {
        "id": "1m1CieUICz43"
      },
      "execution_count": 29,
      "outputs": []
    },
    {
      "cell_type": "code",
      "source": [
        "def bananas(s) -> set:\n",
        "    result = set()\n",
        "    word = \"banana\"\n",
        "    j = 0\n",
        "    b_index = []\n",
        "    a_index = []\n",
        "    n_index = []\n",
        "    l = len(s)\n",
        "    if(l < 6):\n",
        "      return result\n",
        "    for i in range(l-5):\n",
        "      if(s[i] == 'b'):\n",
        "        b_index.append(i)\n",
        "    if(len(b_index) < 1):\n",
        "      return result\n",
        "    for i in range(b_index[0]+1, l):\n",
        "      if(s[i] == 'a'):\n",
        "        a_index.append(i)\n",
        "    if(len(a_index) < 3):\n",
        "      return result\n",
        "    for i in range(b_index[0]+2, a_index[len(a_index)-1]):\n",
        "      if(s[i] == 'n'):\n",
        "        n_index.append(i)\n",
        "    if(len(n_index) < 2):\n",
        "      return result\n",
        "    banana = \"banana\"\n",
        "    for b in b_index:\n",
        "      temp = [-1,-1,-1,-1,-1,-1]\n",
        "      temp[0] = b\n",
        "      for a in a_index:\n",
        "        if(a < b):\n",
        "          continue\n",
        "        temp[1] = a\n",
        "        for n in n_index:\n",
        "          if(n < a):\n",
        "            continue\n",
        "          temp[2] = n\n",
        "          for a2 in a_index:\n",
        "            if(a2 < n):\n",
        "              continue\n",
        "            temp[3] = a2\n",
        "            for n2 in n_index:\n",
        "              if(n2 < a2):\n",
        "                continue\n",
        "              temp[4] = n2\n",
        "              for a3 in a_index:\n",
        "                if(a3 < n2):\n",
        "                  continue\n",
        "                temp[5] = a3\n",
        "                sb = [\"-\"]\n",
        "                sb *= l\n",
        "                for i in range(6):\n",
        "                  sb[temp[i]] = banana[i]\n",
        "                res = \"\"\n",
        "                for i in sb:\n",
        "                  res += i\n",
        "                result.add(res)\n",
        "    return result"
      ],
      "metadata": {
        "id": "YnLqy0WnCz97"
      },
      "execution_count": 23,
      "outputs": []
    },
    {
      "cell_type": "code",
      "source": [
        "assert bananas(\"banann\") == set()\n",
        "assert bananas(\"banana\") == {\"banana\"}\n",
        "assert bananas(\"bbananana\") == {\"b-an--ana\", \"-banana--\", \"-b--anana\", \"b-a--nana\", \"-banan--a\",\n",
        "                     \"b-ana--na\", \"b---anana\", \"-bana--na\", \"-ba--nana\", \"b-anan--a\",\n",
        "                     \"-ban--ana\", \"b-anana--\"}\n",
        "assert bananas(\"bananaaa\") == {\"banan-a-\", \"banana--\", \"banan--a\"}\n",
        "assert bananas(\"bananana\") == {\"ban--ana\", \"ba--nana\", \"bana--na\", \"b--anana\", \"banana--\", \"banan--a\"}\n"
      ],
      "metadata": {
        "id": "P3pKpSkkE9M7"
      },
      "execution_count": 24,
      "outputs": []
    },
    {
      "cell_type": "code",
      "source": [
        "def count_find_num(primesL, limit):\n",
        "    pr = 1\n",
        "    for i in primesL:\n",
        "      pr *= i\n",
        "    if (pr > limit):\n",
        "      return []\n",
        "    products = set({pr})\n",
        "    mult_product(pr, primesL, 0, limit, products)\n",
        "    return [len(products), max(products)]"
      ],
      "metadata": {
        "id": "LDm22OgUf22e"
      },
      "execution_count": 25,
      "outputs": []
    },
    {
      "cell_type": "code",
      "source": [
        "def mult_product(cur, primesL, ind, limit, products):\n",
        "  if(ind < len(primesL)-1):\n",
        "    while(cur <= limit):\n",
        "      mult_product(cur, primesL, ind+1, limit, products)\n",
        "      cur *= primesL[ind]\n",
        "      if(cur <= limit):\n",
        "        products.add(cur)\n",
        "      mult_product(cur, primesL, ind+1, limit, products)\n",
        "  else:\n",
        "    while(cur <= limit):\n",
        "      cur *= primesL[ind]\n",
        "      if(cur <= limit):\n",
        "        products.add(cur)"
      ],
      "metadata": {
        "id": "bHUG2ssTf25j"
      },
      "execution_count": 26,
      "outputs": []
    },
    {
      "cell_type": "code",
      "source": [
        "primesL = [2, 3]\n",
        "limit = 200\n",
        "assert count_find_num(primesL, limit) == [13, 192]\n",
        "\n",
        "primesL = [2, 5]\n",
        "limit = 200\n",
        "assert count_find_num(primesL, limit) == [8, 200]\n",
        "\n",
        "primesL = [2, 3, 5]\n",
        "limit = 500\n",
        "assert count_find_num(primesL, limit) == [12, 480]\n",
        "\n",
        "primesL = [2, 3, 5]\n",
        "limit = 1000\n",
        "assert count_find_num(primesL, limit) == [19, 960]\n",
        "\n",
        "primesL = [2, 3, 47]\n",
        "limit = 200\n",
        "assert count_find_num(primesL, limit) == []\n"
      ],
      "metadata": {
        "id": "VNrv8sdCnizp"
      },
      "execution_count": 27,
      "outputs": []
    }
  ]
}