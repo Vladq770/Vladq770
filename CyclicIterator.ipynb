{
  "nbformat": 4,
  "nbformat_minor": 0,
  "metadata": {
    "colab": {
      "name": "CyclicIterator.ipynb",
      "provenance": [],
      "authorship_tag": "ABX9TyPRame2BhBI4Zc2sTQexqVH",
      "include_colab_link": true
    },
    "kernelspec": {
      "name": "python3",
      "display_name": "Python 3"
    },
    "language_info": {
      "name": "python"
    }
  },
  "cells": [
    {
      "cell_type": "markdown",
      "metadata": {
        "id": "view-in-github",
        "colab_type": "text"
      },
      "source": [
        "<a href=\"https://colab.research.google.com/github/Vladq770/Vladq770/blob/main/CyclicIterator.ipynb\" target=\"_parent\"><img src=\"https://colab.research.google.com/assets/colab-badge.svg\" alt=\"Open In Colab\"/></a>"
      ]
    },
    {
      "cell_type": "code",
      "execution_count": null,
      "metadata": {
        "id": "LOcNOAb-yQhq"
      },
      "outputs": [],
      "source": [
        "class CyclicIterator:\n",
        "    def __init__(self, iterable_object):\n",
        "        self.length = len(iterable_object)\n",
        "        if self.length == 0:\n",
        "            raise StopIteration\n",
        "        self.current = 0\n",
        "        self.items = list(iterable_object)\n",
        "    def __iter__(self):\n",
        "        return self\n",
        "    def __next__(self):\n",
        "        index = self.current\n",
        "        self.current = (self.current + 1) % self.length\n",
        "        return self.items[index]"
      ]
    },
    {
      "cell_type": "code",
      "source": [
        "test0 = range(5)\n",
        "test1 = {1, 5, 123}\n",
        "test2 = [1, 5, 123]\n",
        "test3 = (1, 5, 123)\n",
        "test4 = []"
      ],
      "metadata": {
        "id": "xgIejnGayRaZ"
      },
      "execution_count": null,
      "outputs": []
    },
    {
      "cell_type": "code",
      "source": [
        "cyclic_iterator = CyclicIterator(range(3))\n",
        "for i in cyclic_iterator:\n",
        "    print(i)"
      ],
      "metadata": {
        "id": "DclwB4yNDqFv"
      },
      "execution_count": null,
      "outputs": []
    },
    {
      "cell_type": "code",
      "source": [
        "cyclic_iterator = CyclicIterator(test0)\n",
        "for i in cyclic_iterator:\n",
        "    print(i)"
      ],
      "metadata": {
        "id": "Y17ZPABAyRfk"
      },
      "execution_count": null,
      "outputs": []
    },
    {
      "cell_type": "code",
      "source": [
        "cyclic_iterator = CyclicIterator(test1)\n",
        "for i in cyclic_iterator:\n",
        "    print(i)"
      ],
      "metadata": {
        "id": "nlZkt7jAyRit"
      },
      "execution_count": null,
      "outputs": []
    },
    {
      "cell_type": "code",
      "source": [
        "cyclic_iterator = CyclicIterator(test2)\n",
        "for i in cyclic_iterator:\n",
        "    print(i)"
      ],
      "metadata": {
        "id": "rUWW-3lpFYc7"
      },
      "execution_count": null,
      "outputs": []
    },
    {
      "cell_type": "code",
      "source": [
        "cyclic_iterator = CyclicIterator(test3)\n",
        "for i in cyclic_iterator:\n",
        "    print(i)"
      ],
      "metadata": {
        "id": "SBbXeOvbFYf2"
      },
      "execution_count": null,
      "outputs": []
    },
    {
      "cell_type": "code",
      "source": [
        "cyclic_iterator = CyclicIterator(test4)\n",
        "for i in cyclic_iterator:\n",
        "    print(i)"
      ],
      "metadata": {
        "id": "OWkzFKVOFdqI"
      },
      "execution_count": null,
      "outputs": []
    }
  ]
}