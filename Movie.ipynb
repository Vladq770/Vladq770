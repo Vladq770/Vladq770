{
  "nbformat": 4,
  "nbformat_minor": 0,
  "metadata": {
    "colab": {
      "name": "Movie.ipynb",
      "provenance": [],
      "authorship_tag": "ABX9TyOHD5O5hHOoajG93TTM6l/t",
      "include_colab_link": true
    },
    "kernelspec": {
      "name": "python3",
      "display_name": "Python 3"
    },
    "language_info": {
      "name": "python"
    }
  },
  "cells": [
    {
      "cell_type": "markdown",
      "metadata": {
        "id": "view-in-github",
        "colab_type": "text"
      },
      "source": [
        "<a href=\"https://colab.research.google.com/github/Vladq770/Vladq770/blob/main/Movie.ipynb\" target=\"_parent\"><img src=\"https://colab.research.google.com/assets/colab-badge.svg\" alt=\"Open In Colab\"/></a>"
      ]
    },
    {
      "cell_type": "code",
      "execution_count": 16,
      "metadata": {
        "id": "e0mfZ7yWG8Xc"
      },
      "outputs": [],
      "source": [
        "from dataclasses import dataclass\n",
        "from datetime import datetime\n",
        "from datetime import timedelta\n",
        "from typing import Generator, List, Tuple\n",
        "\n",
        "\n",
        "@dataclass\n",
        "class Movie:\n",
        "    title: str\n",
        "    dates: List[Tuple[datetime, datetime]]\n",
        "\n",
        "    def schedule(self) -> Generator[datetime, None, None]:\n",
        "        for i in self.dates:\n",
        "            temp_date = i[0]\n",
        "            while(temp_date <= i[1]):\n",
        "                yield temp_date\n",
        "                temp_date += timedelta(days=1)\n"
      ]
    },
    {
      "cell_type": "code",
      "source": [
        "m = Movie('sw', [\n",
        "  (datetime(2020, 1, 1), datetime(2020, 1, 7)),\n",
        "  (datetime(2020, 1, 15), datetime(2020, 2, 7))\n",
        "])\n",
        "\n",
        "for d in m.schedule():\n",
        "    print(d)"
      ],
      "metadata": {
        "colab": {
          "base_uri": "https://localhost:8080/"
        },
        "id": "Dx3Di157HkiK",
        "outputId": "4ce7a858-3a78-4331-ba2f-c671d9f65e2e"
      },
      "execution_count": 15,
      "outputs": [
        {
          "output_type": "stream",
          "name": "stdout",
          "text": [
            "2020-01-01 00:00:00\n",
            "2020-01-02 00:00:00\n",
            "2020-01-03 00:00:00\n",
            "2020-01-04 00:00:00\n",
            "2020-01-05 00:00:00\n",
            "2020-01-06 00:00:00\n",
            "2020-01-07 00:00:00\n",
            "2020-01-15 00:00:00\n",
            "2020-01-16 00:00:00\n",
            "2020-01-17 00:00:00\n",
            "2020-01-18 00:00:00\n",
            "2020-01-19 00:00:00\n",
            "2020-01-20 00:00:00\n",
            "2020-01-21 00:00:00\n",
            "2020-01-22 00:00:00\n",
            "2020-01-23 00:00:00\n",
            "2020-01-24 00:00:00\n",
            "2020-01-25 00:00:00\n",
            "2020-01-26 00:00:00\n",
            "2020-01-27 00:00:00\n",
            "2020-01-28 00:00:00\n",
            "2020-01-29 00:00:00\n",
            "2020-01-30 00:00:00\n",
            "2020-01-31 00:00:00\n",
            "2020-02-01 00:00:00\n",
            "2020-02-02 00:00:00\n",
            "2020-02-03 00:00:00\n",
            "2020-02-04 00:00:00\n",
            "2020-02-05 00:00:00\n",
            "2020-02-06 00:00:00\n",
            "2020-02-07 00:00:00\n"
          ]
        }
      ]
    }
  ]
}