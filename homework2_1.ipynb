{
  "nbformat": 4,
  "nbformat_minor": 0,
  "metadata": {
    "colab": {
      "name": "homework2.1.ipynb",
      "provenance": [],
      "authorship_tag": "ABX9TyMAwQUs4MWkvZBhEj9kOPkk",
      "include_colab_link": true
    },
    "kernelspec": {
      "name": "python3",
      "display_name": "Python 3"
    },
    "language_info": {
      "name": "python"
    }
  },
  "cells": [
    {
      "cell_type": "markdown",
      "metadata": {
        "id": "view-in-github",
        "colab_type": "text"
      },
      "source": [
        "<a href=\"https://colab.research.google.com/github/Vladq770/Vladq770/blob/main/homework2_1.ipynb\" target=\"_parent\"><img src=\"https://colab.research.google.com/assets/colab-badge.svg\" alt=\"Open In Colab\"/></a>"
      ]
    },
    {
      "cell_type": "code",
      "source": [
        "import numpy as np\n",
        "import itertools as it"
      ],
      "metadata": {
        "id": "WYC_g9e8vxEJ"
      },
      "execution_count": 1,
      "outputs": []
    },
    {
      "cell_type": "code",
      "source": [
        "def minPath(points):\n",
        "  L = len(points)\n",
        "  distances = np.zeros((L,L))\n",
        "  for i in range(L):\n",
        "    for j in range(i, L):\n",
        "      distances[i][j] = distances[j][i] = ((points[i][0] - points[j][0]) ** 2 + (points[i][1] - points[j][1]) ** 2) ** 0.5\n",
        "  indices = []\n",
        "  for i in range(1, L):\n",
        "    indices.append(i)\n",
        "  perm_list = it.permutations(indices)\n",
        "  path = np.inf\n",
        "  min_path_ind = []\n",
        "  for i in perm_list:\n",
        "    temp = distances[0][i[0]] + distances[0][i[L-2]]\n",
        "    for j in range(L-2):\n",
        "      temp += distances[i[j]][i[j+1]]\n",
        "    if temp < path:\n",
        "      min_path_ind = i\n",
        "      path = temp\n",
        "  cur_path = distances[0][min_path_ind[0]]\n",
        "  res = str(points[0]) + \" -> \" + str(points[min_path_ind[0]]) + \"[\" + str(cur_path) + \"]\"\n",
        "  for i in range(1, L-1):\n",
        "    cur_path += distances[min_path_ind[i-1]][min_path_ind[i]]\n",
        "    res += \" -> \" + str(points[min_path_ind[i]]) + \"[\" + str(cur_path) + \"]\"\n",
        "  res += \" -> \" + str(points[0]) + \"[\" + str(path) + \"] = \" + str(path)\n",
        "  return res"
      ],
      "metadata": {
        "id": "-qeYwC03vsnN"
      },
      "execution_count": 2,
      "outputs": []
    },
    {
      "cell_type": "code",
      "source": [
        "points = [(0,2),(2,5),(5,2),(6,6),(8,3)]\n",
        "print(minPath(points))"
      ],
      "metadata": {
        "colab": {
          "base_uri": "https://localhost:8080/"
        },
        "id": "LK7_8CwquyWq",
        "outputId": "db7af4f4-8ee9-41ac-e574-96744f488ca3"
      },
      "execution_count": 3,
      "outputs": [
        {
          "output_type": "stream",
          "name": "stdout",
          "text": [
            "(0, 2) -> (2, 5)[3.605551275463989] -> (6, 6)[7.728656901081649] -> (8, 3)[11.334208176545639] -> (5, 2)[14.496485836714019] -> (0, 2)[19.496485836714015] = 19.496485836714015\n"
          ]
        }
      ]
    }
  ]
}